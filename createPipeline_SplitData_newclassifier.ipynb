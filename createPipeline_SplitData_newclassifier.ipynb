{
 "cells": [
  {
   "cell_type": "code",
   "execution_count": 6,
   "metadata": {},
   "outputs": [
    {
     "name": "stdout",
     "output_type": "stream",
     "text": [
      "[1 1 2 2 0 1 0 2 1 1 2 2 0 0 0 2 0 2 1 1 2 0 1 2 0 2 0 0 0 1 1 0 2 0 0 0 2\n",
      " 2 1 1 0 2 0 2 0 2 2 0 0 0 0 2 1 2 0 0 2 1 2 2 1 1 2 1 0 1 1 1 0 2 2 2 0 1\n",
      " 0]\n",
      "Accuracy Score 0.9866666666666667\n"
     ]
    }
   ],
   "source": [
    "#import dataset\n",
    "from sklearn import datasets\n",
    "iris = datasets.load_iris()\n",
    "\n",
    "x = iris.data\n",
    "y = iris.target\n",
    "\n",
    "#split data\n",
    "from sklearn.cross_validation import train_test_split\n",
    "x_test, x_train, y_test, y_train = train_test_split(x,y, test_size = .5)\n",
    "\n",
    "#Use classifier\n",
    "#from sklearn import tree\n",
    "#my_classifier = tree.DecisionTreeClassifier()\n",
    "\n",
    "from sklearn.neighbors import KNeighborsClassifier\n",
    "my_classifier = KNeighborsClassifier()\n",
    "my_classifier.fit(x_train, y_train)\n",
    "\n",
    "#check prediction\n",
    "predictions = my_classifier.predict(x_test)\n",
    "print(predictions)\n",
    "\n",
    "#check accuracy\n",
    "from sklearn.metrics import accuracy_score\n",
    "print(\"Accuracy Score : \",accuracy_score(y_test,predictions))"
   ]
  }
 ],
 "metadata": {
  "kernelspec": {
   "display_name": "Python 3",
   "language": "python",
   "name": "python3"
  },
  "language_info": {
   "codemirror_mode": {
    "name": "ipython",
    "version": 3
   },
   "file_extension": ".py",
   "mimetype": "text/x-python",
   "name": "python",
   "nbconvert_exporter": "python",
   "pygments_lexer": "ipython3",
   "version": "3.6.5"
  }
 },
 "nbformat": 4,
 "nbformat_minor": 2
}
