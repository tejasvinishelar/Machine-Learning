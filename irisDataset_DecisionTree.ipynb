{
 "cells": [
  {
   "cell_type": "code",
   "execution_count": 16,
   "metadata": {},
   "outputs": [
    {
     "name": "stdout",
     "output_type": "stream",
     "text": [
      "['sepal length (cm)', 'sepal width (cm)', 'petal length (cm)', 'petal width (cm)']\n",
      "['setosa' 'versicolor' 'virginica']\n",
      "[5.1 3.5 1.4 0.2]\n",
      "0\n",
      "[0 1 2]\n"
     ]
    },
    {
     "data": {
      "text/plain": [
       "array([0, 1, 2])"
      ]
     },
     "execution_count": 16,
     "metadata": {},
     "output_type": "execute_result"
    }
   ],
   "source": [
    "import numpy as np\n",
    "from sklearn.datasets import load_iris\n",
    "from sklearn import tree\n",
    "\n",
    "iris = load_iris()\n",
    "print(iris.feature_names)\n",
    "print(iris.target_names)\n",
    "\n",
    "print(iris.data[0])\n",
    "print(iris.target[0])\n",
    "\n",
    "#or i in range(len(iris.target)):\n",
    " #  print(\"Example %d : label %s , feature %s\"%(i,iris.target[i],iris.data[i]))\n",
    "    \n",
    "test_idx = [0,50,100]\n",
    "#training data\n",
    "train_target = np.delete(iris.target,test_idx)                  #training data will contain all data except test_idx data\n",
    "train_data = np.delete(iris.data,test_idx,axis = 0)\n",
    "\n",
    "#testing data\n",
    "test_target = iris.target[test_idx]                         #testing data will contain test_idx 3 data sets that are deleted \n",
    "test_data = iris.data[test_idx]\n",
    "\n",
    "clf = tree.DecisionTreeClassifier()\n",
    "clf.fit(train_data,train_target)\n",
    "\n",
    "print(test_target)\n",
    "\n",
    "clf.predict(test_data)\n",
    "\n",
    "\n",
    " \n",
    "\n"
   ]
  },
  {
   "cell_type": "code",
   "execution_count": null,
   "metadata": {},
   "outputs": [],
   "source": []
  }
 ],
 "metadata": {
  "kernelspec": {
   "display_name": "Python 3",
   "language": "python",
   "name": "python3"
  },
  "language_info": {
   "codemirror_mode": {
    "name": "ipython",
    "version": 3
   },
   "file_extension": ".py",
   "mimetype": "text/x-python",
   "name": "python",
   "nbconvert_exporter": "python",
   "pygments_lexer": "ipython3",
   "version": "3.6.5"
  }
 },
 "nbformat": 4,
 "nbformat_minor": 2
}
